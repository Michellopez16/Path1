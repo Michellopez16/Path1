{
 "cells": [
  {
   "cell_type": "code",
   "execution_count": 3,
   "metadata": {},
   "outputs": [],
   "source": [
    "import numpy as np"
   ]
  },
  {
   "cell_type": "code",
   "execution_count": 16,
   "metadata": {},
   "outputs": [
    {
     "name": "stdout",
     "output_type": "stream",
     "text": [
      "Pos inicial:  (1, 1)\n",
      "--------------------\n",
      "llegue al fin!!!\n",
      "--------------------\n",
      "Pos Final: 4 4\n"
     ]
    }
   ],
   "source": [
    " \n",
    "\n",
    "#0 -> derecha\n",
    "#1 -> abajo\n",
    "#2 -> izquierda\n",
    "#3 -> arriba\n",
    "\n",
    "\n",
    "mapa = np.array([   [0,1,1,1,1],\n",
    "                    [1,1,0,1,1],\n",
    "                    [1,0,0,0,1],\n",
    "                    [1,0,1,1,1],\n",
    "                    [1,0,0,1,1]\n",
    "                ])\n",
    "\n",
    "inicio= (1,1)\n",
    "fin = (4,4)\n",
    "xlim,ylim = mapa.shape\n",
    " \n",
    "\n",
    "def validar (x,y):  \n",
    "    if (x < xlim and y < ylim and x >=0 and y >= 0):\n",
    "        if mapa[x,y] != 0:\n",
    "            #print(\"validando\",x,y)\n",
    "            return True\n",
    "    return False\n",
    "\n",
    "x,y = inicio\n",
    "pos = inicio\n",
    "\n",
    "tmp = None\n",
    "\n",
    "print(\"Pos inicial: \",pos)\n",
    "print(\"-\"*20)\n",
    "path = []\n",
    "new_pos = lambda op:  {0: (x,y+1),1: (x+1,y),2: (x,y-1),3: (x-1,y) }[op]\n",
    "\n",
    "#np.random.seed(4321)\n",
    "\n",
    "for i in range(1000):\n",
    "    \n",
    "    op = np.random.randint(4)\n",
    "    \n",
    "    tmp = new_pos(op)\n",
    "    \n",
    "    #print(i,op,tmp,validar(*tmp),x,y)\n",
    "    \n",
    "    if validar(*tmp):\n",
    "        x,y = tmp\n",
    "        #print(op,tmp)   \n",
    "        path.append([x,y])\n",
    "        if (tmp == fin):\n",
    "            print(\"llegue al fin!!!\")\n",
    "            break\n",
    "\n",
    "print(\"-\"*20)    \n",
    "print(\"Pos Final:\",x,y)"
   ]
  },
  {
   "cell_type": "code",
   "execution_count": 17,
   "metadata": {},
   "outputs": [
    {
     "data": {
      "text/plain": [
       "array([[0, 1, 1, 1, 1],\n",
       "       [1, 1, 0, 1, 1],\n",
       "       [1, 0, 0, 0, 1],\n",
       "       [1, 0, 1, 1, 1],\n",
       "       [1, 0, 0, 1, 1]])"
      ]
     },
     "execution_count": 17,
     "metadata": {},
     "output_type": "execute_result"
    }
   ],
   "source": [
    "mapa"
   ]
  },
  {
   "cell_type": "code",
   "execution_count": 20,
   "metadata": {},
   "outputs": [
    {
     "data": {
      "text/plain": [
       "<matplotlib.image.AxesImage at 0x1de8c907910>"
      ]
     },
     "execution_count": 20,
     "metadata": {},
     "output_type": "execute_result"
    },
    {
     "data": {
      "image/png": "[encoded data removed]",
      "text/plain": [
       "<Figure size 432x288 with 1 Axes>"
      ]
     },
     "metadata": {
      "needs_background": "light"
     },
     "output_type": "display_data"
    }
   ],
   "source": [
    "plt.imshow(mapa,cmap='gray')"
   ]
  },
  {
   "cell_type": "code",
   "execution_count": 21,
   "metadata": {},
   "outputs": [],
   "source": [
    "for x,y in path:\n",
    "    mapa[x,y] += 1"
   ]
  },
  {
   "cell_type": "code",
   "execution_count": 22,
   "metadata": {},
   "outputs": [
    {
     "data": {
      "text/plain": [
       "array([[ 0, 15, 16, 14,  6],\n",
       "       [11, 11,  0,  9, 11],\n",
       "       [ 7,  0,  0,  0,  6],\n",
       "       [ 2,  0,  2,  5,  4],\n",
       "       [ 1,  0,  0,  3,  2]])"
      ]
     },
     "execution_count": 22,
     "metadata": {},
     "output_type": "execute_result"
    }
   ],
   "source": [
    "mapa"
   ]
  },
  {
   "cell_type": "code",
   "execution_count": 23,
   "metadata": {},
   "outputs": [],
   "source": [
    "import matplotlib.pyplot as plt"
   ]
  },
  {
   "cell_type": "code",
   "execution_count": 24,
   "metadata": {},
   "outputs": [
    {
     "data": {
      "text/plain": [
       "<matplotlib.image.AxesImage at 0x1de8c947910>"
      ]
     },
     "execution_count": 24,
     "metadata": {},
     "output_type": "execute_result"
    },
    {
     "data": {
      "image/png": "[encoded data removed]",
      "text/plain": [
       "<Figure size 432x288 with 1 Axes>"
      ]
     },
     "metadata": {
      "needs_background": "light"
     },
     "output_type": "display_data"
    }
   ],
   "source": [
    "#plt.imshow(mapa,cmap='rainbow')\n",
    "plt.imshow(mapa,cmap='bwr')"
   ]
  },
  {
   "cell_type": "code",
   "execution_count": 183,
   "metadata": {},
   "outputs": [],
   "source": [
    "#!pip install ipympl"
   ]
  },
  {
   "cell_type": "code",
   "execution_count": 14,
   "metadata": {},
   "outputs": [],
   "source": [
    "#%matplotlib ipympl\n",
    "#%matplotlib widget\n",
    "#%matplotlib nbagg \n",
    "#%matplotlib notebook\n",
    "#%matplotlib inline "
   ]
  },
  {
   "cell_type": "code",
   "execution_count": null,
   "metadata": {},
   "outputs": [],
   "source": []
  }
 ],
 "metadata": {
  "kernelspec": {
   "display_name": "Robotica_2023",
   "language": "python",
   "name": "robotica_2023"
  },
  "language_info": {
   "codemirror_mode": {
    "name": "ipython",
    "version": 3
   },
   "file_extension": ".py",
   "mimetype": "text/x-python",
   "name": "python",
   "nbconvert_exporter": "python",
   "pygments_lexer": "ipython3",
   "version": "3.11.4"
  },
  "orig_nbformat": 4
 },
 "nbformat": 4,
 "nbformat_minor": 2
}
