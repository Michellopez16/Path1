{
 "cells": [
  {
   "cell_type": "code",
   "execution_count": 1,
   "metadata": {},
   "outputs": [],
   "source": [
    "import numpy as np\n",
    "import matplotlib.pyplot as plt\n",
    "from collections import deque"
   ]
  },
  {
   "cell_type": "code",
   "execution_count": 9,
   "metadata": {},
   "outputs": [],
   "source": [
    "mapa = np.array([   [0,1,1,1,1],\n",
    "                    [1,1,0,1,1],\n",
    "                    [1,0,0,0,1],\n",
    "                    [1,0,1,1,1],\n",
    "                    [1,0,0,1,1]\n",
    "                ])\n",
    "\n",
    "start= (1,1)\n",
    "goal = (4,4)\n",
    "xlim,ylim = mapa.shape"
   ]
  },
  {
   "cell_type": "code",
   "execution_count": 10,
   "metadata": {},
   "outputs": [
    {
     "data": {
      "text/plain": [
       "<matplotlib.image.AxesImage at 0x1111b03d0>"
      ]
     },
     "execution_count": 10,
     "metadata": {},
     "output_type": "execute_result"
    },
    {
     "data": {
      "image/png": "[encoded data removed]",
      "text/plain": [
       "<Figure size 640x480 with 1 Axes>"
      ]
     },
     "metadata": {},
     "output_type": "display_data"
    }
   ],
   "source": [
    "plt.imshow(mapa,cmap='gray')"
   ]
  },
  {
   "cell_type": "code",
   "execution_count": 11,
   "metadata": {},
   "outputs": [
    {
     "name": "stdout",
     "output_type": "stream",
     "text": [
      "Visited:\n",
      "[[0. 0. 0. 0. 0.]\n",
      " [0. 1. 0. 0. 0.]\n",
      " [0. 0. 0. 0. 0.]\n",
      " [0. 0. 0. 0. 0.]\n",
      " [0. 0. 0. 0. 0.]]\n",
      "Nodos por visitar: deque([(1, 1)])\n",
      "Path Recorrido: deque([(1, 1)])\n",
      "Mapa:\n",
      "[[0 1 1 1 1]\n",
      " [1 1 0 1 1]\n",
      " [1 0 0 0 1]\n",
      " [1 0 1 1 1]\n",
      " [1 0 0 1 1]]\n"
     ]
    }
   ],
   "source": [
    "visited = np.zeros (mapa.shape)\n",
    "visited[start] +=1 \n",
    "queue = deque([start])\n",
    "path_visited = deque([start])\n",
    "path = deque([start])\n",
    "\n",
    "def stepprint(): \n",
    "    print(f\"Visited:\\n{visited}\")\n",
    "    print(f\"Nodos por visitar: {queue}\")\n",
    "    print(f\"Path Recorrido: {path_visited}\")\n",
    "    print(f\"Mapa:\\n{mapa}\")\n",
    "    \n",
    "    \n",
    "def validar (x,y):  \n",
    "    if (x < xlim and y < ylim and x >=0 and y >= 0):\n",
    "        if mapa[x,y] == 1 and not (x,y) in path_visited:            \n",
    "            return True\n",
    "    return False\n",
    "\n",
    "\n",
    "def moverto(cur_node):\n",
    "    x,y = cur_node\n",
    "    \n",
    "    if validar(x,y+1):\n",
    "        return x,y+1\n",
    "    if validar(x+1,y):\n",
    "        return x+1,y\n",
    "    if validar(x,y-1):\n",
    "        return x,y-1\n",
    "    if validar(x-1,y):\n",
    "        return x-1,y\n",
    "    \n",
    "    return -1,-1    \n",
    "\n",
    "stepprint()"
   ]
  },
  {
   "cell_type": "code",
   "execution_count": null,
   "metadata": {},
   "outputs": [],
   "source": []
  },
  {
   "cell_type": "code",
   "execution_count": 12,
   "metadata": {},
   "outputs": [
    {
     "name": "stdout",
     "output_type": "stream",
     "text": [
      "--------------------\n",
      "Nuevo movimiento:  1 0\n",
      "Visited:\n",
      "[[0. 0. 0. 0. 0.]\n",
      " [1. 1. 0. 0. 0.]\n",
      " [0. 0. 0. 0. 0.]\n",
      " [0. 0. 0. 0. 0.]\n",
      " [0. 0. 0. 0. 0.]]\n",
      "Nodos por visitar: deque([(1, 1)])\n",
      "Path Recorrido: deque([(1, 1), (1, 0)])\n",
      "Mapa:\n",
      "[[0 1 1 1 1]\n",
      " [1 1 0 1 1]\n",
      " [1 0 0 0 1]\n",
      " [1 0 1 1 1]\n",
      " [1 0 0 1 1]]\n",
      "--------------------\n",
      "Nuevo movimiento:  2 0\n",
      "Visited:\n",
      "[[0. 0. 0. 0. 0.]\n",
      " [1. 1. 0. 0. 0.]\n",
      " [1. 0. 0. 0. 0.]\n",
      " [0. 0. 0. 0. 0.]\n",
      " [0. 0. 0. 0. 0.]]\n",
      "Nodos por visitar: deque([(1, 1)])\n",
      "Path Recorrido: deque([(1, 1), (1, 0), (2, 0)])\n",
      "Mapa:\n",
      "[[0 1 1 1 1]\n",
      " [1 1 0 1 1]\n",
      " [1 0 0 0 1]\n",
      " [1 0 1 1 1]\n",
      " [1 0 0 1 1]]\n",
      "--------------------\n",
      "Nuevo movimiento:  3 0\n",
      "Visited:\n",
      "[[0. 0. 0. 0. 0.]\n",
      " [1. 1. 0. 0. 0.]\n",
      " [1. 0. 0. 0. 0.]\n",
      " [1. 0. 0. 0. 0.]\n",
      " [0. 0. 0. 0. 0.]]\n",
      "Nodos por visitar: deque([(1, 1)])\n",
      "Path Recorrido: deque([(1, 1), (1, 0), (2, 0), (3, 0)])\n",
      "Mapa:\n",
      "[[0 1 1 1 1]\n",
      " [1 1 0 1 1]\n",
      " [1 0 0 0 1]\n",
      " [1 0 1 1 1]\n",
      " [1 0 0 1 1]]\n",
      "--------------------\n",
      "Nuevo movimiento:  4 0\n",
      "Visited:\n",
      "[[0. 0. 0. 0. 0.]\n",
      " [1. 1. 0. 0. 0.]\n",
      " [1. 0. 0. 0. 0.]\n",
      " [1. 0. 0. 0. 0.]\n",
      " [1. 0. 0. 0. 0.]]\n",
      "Nodos por visitar: deque([(1, 1)])\n",
      "Path Recorrido: deque([(1, 1), (1, 0), (2, 0), (3, 0), (4, 0)])\n",
      "Mapa:\n",
      "[[0 1 1 1 1]\n",
      " [1 1 0 1 1]\n",
      " [1 0 0 0 1]\n",
      " [1 0 1 1 1]\n",
      " [1 0 0 1 1]]\n",
      "--------------------\n",
      "Nuevo movimiento:  -1 -1\n",
      "4 0\n",
      "Visited:\n",
      "[[0. 0. 0. 0. 0.]\n",
      " [1. 1. 0. 0. 0.]\n",
      " [1. 0. 0. 0. 0.]\n",
      " [1. 0. 0. 0. 0.]\n",
      " [2. 0. 0. 0. 0.]]\n",
      "Nodos por visitar: deque([(1, 1)])\n",
      "Path Recorrido: deque([(1, 1), (1, 0), (2, 0), (3, 0), (4, 0)])\n",
      "Mapa:\n",
      "[[0 1 1 1 1]\n",
      " [1 1 0 1 1]\n",
      " [1 0 0 0 1]\n",
      " [1 0 1 1 1]\n",
      " [1 0 0 1 1]]\n",
      "--------------------\n",
      "Nuevo movimiento:  -1 -1\n",
      "3 0\n",
      "Visited:\n",
      "[[0. 0. 0. 0. 0.]\n",
      " [1. 1. 0. 0. 0.]\n",
      " [1. 0. 0. 0. 0.]\n",
      " [2. 0. 0. 0. 0.]\n",
      " [2. 0. 0. 0. 0.]]\n",
      "Nodos por visitar: deque([(1, 1)])\n",
      "Path Recorrido: deque([(1, 1), (1, 0), (2, 0), (3, 0), (4, 0)])\n",
      "Mapa:\n",
      "[[0 1 1 1 1]\n",
      " [1 1 0 1 1]\n",
      " [1 0 0 0 1]\n",
      " [1 0 1 1 1]\n",
      " [1 0 0 1 1]]\n",
      "--------------------\n",
      "Nuevo movimiento:  -1 -1\n",
      "2 0\n",
      "Visited:\n",
      "[[0. 0. 0. 0. 0.]\n",
      " [1. 1. 0. 0. 0.]\n",
      " [2. 0. 0. 0. 0.]\n",
      " [2. 0. 0. 0. 0.]\n",
      " [2. 0. 0. 0. 0.]]\n",
      "Nodos por visitar: deque([(1, 1)])\n",
      "Path Recorrido: deque([(1, 1), (1, 0), (2, 0), (3, 0), (4, 0)])\n",
      "Mapa:\n",
      "[[0 1 1 1 1]\n",
      " [1 1 0 1 1]\n",
      " [1 0 0 0 1]\n",
      " [1 0 1 1 1]\n",
      " [1 0 0 1 1]]\n",
      "--------------------\n",
      "Nuevo movimiento:  -1 -1\n",
      "1 0\n",
      "Visited:\n",
      "[[0. 0. 0. 0. 0.]\n",
      " [2. 1. 0. 0. 0.]\n",
      " [2. 0. 0. 0. 0.]\n",
      " [2. 0. 0. 0. 0.]\n",
      " [2. 0. 0. 0. 0.]]\n",
      "Nodos por visitar: deque([(1, 1)])\n",
      "Path Recorrido: deque([(1, 1), (1, 0), (2, 0), (3, 0), (4, 0)])\n",
      "Mapa:\n",
      "[[0 1 1 1 1]\n",
      " [1 1 0 1 1]\n",
      " [1 0 0 0 1]\n",
      " [1 0 1 1 1]\n",
      " [1 0 0 1 1]]\n",
      "--------------------\n",
      "Nuevo movimiento:  -1 -1\n",
      "1 1\n",
      "Visited:\n",
      "[[0. 0. 0. 0. 0.]\n",
      " [2. 2. 0. 0. 0.]\n",
      " [2. 0. 0. 0. 0.]\n",
      " [2. 0. 0. 0. 0.]\n",
      " [2. 0. 0. 0. 0.]]\n",
      "Nodos por visitar: deque([(1, 1)])\n",
      "Path Recorrido: deque([(1, 1), (1, 0), (2, 0), (3, 0), (4, 0)])\n",
      "Mapa:\n",
      "[[0 1 1 1 1]\n",
      " [1 1 0 1 1]\n",
      " [1 0 0 0 1]\n",
      " [1 0 1 1 1]\n",
      " [1 0 0 1 1]]\n",
      "--------------------\n",
      "Nuevo movimiento:  0 1\n",
      "Visited:\n",
      "[[0. 1. 0. 0. 0.]\n",
      " [2. 2. 0. 0. 0.]\n",
      " [2. 0. 0. 0. 0.]\n",
      " [2. 0. 0. 0. 0.]\n",
      " [2. 0. 0. 0. 0.]]\n",
      "Nodos por visitar: deque([(1, 1)])\n",
      "Path Recorrido: deque([(1, 1), (1, 0), (2, 0), (3, 0), (4, 0), (0, 1)])\n",
      "Mapa:\n",
      "[[0 1 1 1 1]\n",
      " [1 1 0 1 1]\n",
      " [1 0 0 0 1]\n",
      " [1 0 1 1 1]\n",
      " [1 0 0 1 1]]\n",
      "--------------------\n",
      "Nuevo movimiento:  0 2\n",
      "Visited:\n",
      "[[0. 1. 1. 0. 0.]\n",
      " [2. 2. 0. 0. 0.]\n",
      " [2. 0. 0. 0. 0.]\n",
      " [2. 0. 0. 0. 0.]\n",
      " [2. 0. 0. 0. 0.]]\n",
      "Nodos por visitar: deque([(1, 1)])\n",
      "Path Recorrido: deque([(1, 1), (1, 0), (2, 0), (3, 0), (4, 0), (0, 1), (0, 2)])\n",
      "Mapa:\n",
      "[[0 1 1 1 1]\n",
      " [1 1 0 1 1]\n",
      " [1 0 0 0 1]\n",
      " [1 0 1 1 1]\n",
      " [1 0 0 1 1]]\n",
      "--------------------\n",
      "Nuevo movimiento:  0 3\n",
      "Visited:\n",
      "[[0. 1. 1. 1. 0.]\n",
      " [2. 2. 0. 0. 0.]\n",
      " [2. 0. 0. 0. 0.]\n",
      " [2. 0. 0. 0. 0.]\n",
      " [2. 0. 0. 0. 0.]]\n",
      "Nodos por visitar: deque([(1, 1)])\n",
      "Path Recorrido: deque([(1, 1), (1, 0), (2, 0), (3, 0), (4, 0), (0, 1), (0, 2), (0, 3)])\n",
      "Mapa:\n",
      "[[0 1 1 1 1]\n",
      " [1 1 0 1 1]\n",
      " [1 0 0 0 1]\n",
      " [1 0 1 1 1]\n",
      " [1 0 0 1 1]]\n",
      "--------------------\n",
      "Nuevo movimiento:  0 4\n",
      "Visited:\n",
      "[[0. 1. 1. 1. 1.]\n",
      " [2. 2. 0. 0. 0.]\n",
      " [2. 0. 0. 0. 0.]\n",
      " [2. 0. 0. 0. 0.]\n",
      " [2. 0. 0. 0. 0.]]\n",
      "Nodos por visitar: deque([(1, 1)])\n",
      "Path Recorrido: deque([(1, 1), (1, 0), (2, 0), (3, 0), (4, 0), (0, 1), (0, 2), (0, 3), (0, 4)])\n",
      "Mapa:\n",
      "[[0 1 1 1 1]\n",
      " [1 1 0 1 1]\n",
      " [1 0 0 0 1]\n",
      " [1 0 1 1 1]\n",
      " [1 0 0 1 1]]\n",
      "--------------------\n",
      "Nuevo movimiento:  1 4\n",
      "Visited:\n",
      "[[0. 1. 1. 1. 1.]\n",
      " [2. 2. 0. 0. 1.]\n",
      " [2. 0. 0. 0. 0.]\n",
      " [2. 0. 0. 0. 0.]\n",
      " [2. 0. 0. 0. 0.]]\n",
      "Nodos por visitar: deque([(1, 1)])\n",
      "Path Recorrido: deque([(1, 1), (1, 0), (2, 0), (3, 0), (4, 0), (0, 1), (0, 2), (0, 3), (0, 4), (1, 4)])\n",
      "Mapa:\n",
      "[[0 1 1 1 1]\n",
      " [1 1 0 1 1]\n",
      " [1 0 0 0 1]\n",
      " [1 0 1 1 1]\n",
      " [1 0 0 1 1]]\n",
      "--------------------\n",
      "Nuevo movimiento:  2 4\n",
      "Visited:\n",
      "[[0. 1. 1. 1. 1.]\n",
      " [2. 2. 0. 0. 1.]\n",
      " [2. 0. 0. 0. 1.]\n",
      " [2. 0. 0. 0. 0.]\n",
      " [2. 0. 0. 0. 0.]]\n",
      "Nodos por visitar: deque([(1, 1)])\n",
      "Path Recorrido: deque([(1, 1), (1, 0), (2, 0), (3, 0), (4, 0), (0, 1), (0, 2), (0, 3), (0, 4), (1, 4), (2, 4)])\n",
      "Mapa:\n",
      "[[0 1 1 1 1]\n",
      " [1 1 0 1 1]\n",
      " [1 0 0 0 1]\n",
      " [1 0 1 1 1]\n",
      " [1 0 0 1 1]]\n",
      "--------------------\n",
      "Nuevo movimiento:  3 4\n",
      "Visited:\n",
      "[[0. 1. 1. 1. 1.]\n",
      " [2. 2. 0. 0. 1.]\n",
      " [2. 0. 0. 0. 1.]\n",
      " [2. 0. 0. 0. 1.]\n",
      " [2. 0. 0. 0. 0.]]\n",
      "Nodos por visitar: deque([(1, 1)])\n",
      "Path Recorrido: deque([(1, 1), (1, 0), (2, 0), (3, 0), (4, 0), (0, 1), (0, 2), (0, 3), (0, 4), (1, 4), (2, 4), (3, 4)])\n",
      "Mapa:\n",
      "[[0 1 1 1 1]\n",
      " [1 1 0 1 1]\n",
      " [1 0 0 0 1]\n",
      " [1 0 1 1 1]\n",
      " [1 0 0 1 1]]\n",
      "--------------------\n",
      "Nuevo movimiento:  4 4\n",
      "Visited:\n",
      "[[0. 1. 1. 1. 1.]\n",
      " [2. 2. 0. 0. 1.]\n",
      " [2. 0. 0. 0. 1.]\n",
      " [2. 0. 0. 0. 1.]\n",
      " [2. 0. 0. 0. 1.]]\n",
      "Nodos por visitar: deque([(1, 1)])\n",
      "Path Recorrido: deque([(1, 1), (1, 0), (2, 0), (3, 0), (4, 0), (0, 1), (0, 2), (0, 3), (0, 4), (1, 4), (2, 4), (3, 4), (4, 4)])\n",
      "Mapa:\n",
      "[[0 1 1 1 1]\n",
      " [1 1 0 1 1]\n",
      " [1 0 0 0 1]\n",
      " [1 0 1 1 1]\n",
      " [1 0 0 1 1]]\n",
      "Fin\n",
      "deque([(0, 1), (0, 2), (0, 3), (0, 4), (1, 4), (2, 4), (3, 4), (4, 4)])\n"
     ]
    }
   ],
   "source": [
    "cur_node = start\n",
    "while cur_node != goal:\n",
    "    print(\"-\"*20)  \n",
    "    #cur_node = queue.popleft()\n",
    "    x,y = moverto(cur_node)\n",
    "    print(\"Nuevo movimiento: \", x,y )\n",
    "\n",
    "    if x == -1 and y == -1: # regresar\n",
    "        #regresar = path_visited.copy()\n",
    "        #print(\"regresar\",regresar)\n",
    "        #regresar \n",
    "        #while path:\n",
    "        x,y = path.pop()\n",
    "        visited[x,y] += 1   \n",
    "        print(x,y)\n",
    "            \n",
    "    else:            \n",
    "        path_visited.append((x,y))\n",
    "        path.append((x,y))\n",
    "        visited[x,y] += 1\n",
    "        #queue.append((x,y))\n",
    "    cur_node = (x,y)\n",
    "    \n",
    "    stepprint()\n",
    "\n",
    "    \n",
    "print(\"Fin\")\n",
    "print(path)"
   ]
  },
  {
   "cell_type": "code",
   "execution_count": 13,
   "metadata": {},
   "outputs": [
    {
     "name": "stdout",
     "output_type": "stream",
     "text": [
      "Visited:\n",
      "[[0. 1. 1. 1. 1.]\n",
      " [2. 2. 0. 0. 1.]\n",
      " [2. 0. 0. 0. 1.]\n",
      " [2. 0. 0. 0. 1.]\n",
      " [2. 0. 0. 0. 1.]]\n",
      "Nodos por visitar: deque([(1, 1)])\n",
      "Path Recorrido: deque([(1, 1), (1, 0), (2, 0), (3, 0), (4, 0), (0, 1), (0, 2), (0, 3), (0, 4), (1, 4), (2, 4), (3, 4), (4, 4)])\n",
      "Mapa:\n",
      "[[0 1 1 1 1]\n",
      " [1 1 0 1 1]\n",
      " [1 0 0 0 1]\n",
      " [1 0 1 1 1]\n",
      " [1 0 0 1 1]]\n"
     ]
    }
   ],
   "source": [
    "stepprint()"
   ]
  },
  {
   "cell_type": "code",
   "execution_count": 7,
   "metadata": {},
   "outputs": [
    {
     "data": {
      "text/plain": [
       "<matplotlib.image.AxesImage at 0x1110ff050>"
      ]
     },
     "execution_count": 7,
     "metadata": {},
     "output_type": "execute_result"
    },
    {
     "data": {
      "image/png": "[encoded data removed]",
      "text/plain": [
       "<Figure size 640x480 with 1 Axes>"
      ]
     },
     "metadata": {},
     "output_type": "display_data"
    }
   ],
   "source": [
    "plt.imshow(visited,cmap='jet')\n",
    "#plt.imshow(visited,cmap='turbo')"
   ]
  },
  {
   "cell_type": "code",
   "execution_count": 15,
   "metadata": {},
   "outputs": [
    {
     "data": {
      "text/plain": [
       "(deque([(0, 1), (0, 2), (0, 3), (0, 4), (1, 4), (2, 4), (3, 4), (4, 4)]),\n",
       " array([[0, 1, 1, 1, 1],\n",
       "        [1, 1, 0, 1, 1],\n",
       "        [1, 0, 0, 0, 1],\n",
       "        [1, 0, 1, 1, 1],\n",
       "        [1, 0, 0, 1, 1]]))"
      ]
     },
     "execution_count": 15,
     "metadata": {},
     "output_type": "execute_result"
    }
   ],
   "source": [
    "path,mapa"
   ]
  },
  {
   "cell_type": "code",
   "execution_count": 28,
   "metadata": {},
   "outputs": [
    {
     "data": {
      "text/plain": [
       "<matplotlib.image.AxesImage at 0x111471090>"
      ]
     },
     "execution_count": 28,
     "metadata": {},
     "output_type": "execute_result"
    },
    {
     "data": {
      "image/png": "[encoded data removed]",
      "text/plain": [
       "<Figure size 640x480 with 1 Axes>"
      ]
     },
     "metadata": {},
     "output_type": "display_data"
    }
   ],
   "source": [
    "mapa[start] = 3\n",
    "for x,y in path:\n",
    "    mapa[x,y] = 3\n",
    "    \n",
    "plt.imshow(mapa,cmap='jet')"
   ]
  },
  {
   "cell_type": "code",
   "execution_count": null,
   "metadata": {},
   "outputs": [],
   "source": [
    "\n"
   ]
  },
  {
   "cell_type": "code",
   "execution_count": null,
   "metadata": {},
   "outputs": [],
   "source": []
  }
 ],
 "metadata": {
  "kernelspec": {
   "display_name": "Robotica_2023B",
   "language": "python",
   "name": "python3"
  },
  "language_info": {
   "codemirror_mode": {
    "name": "ipython",
    "version": 3
   },
   "file_extension": ".py",
   "mimetype": "text/x-python",
   "name": "python",
   "nbconvert_exporter": "python",
   "pygments_lexer": "ipython3",
   "version": "3.11.4"
  },
  "orig_nbformat": 4
 },
 "nbformat": 4,
 "nbformat_minor": 2
}
