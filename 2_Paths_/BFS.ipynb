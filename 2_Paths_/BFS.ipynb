{
 "cells": [
  {
   "cell_type": "markdown",
   "metadata": {},
   "source": [
    "The Breadth First Search (BFS) algorithm is used to search a graph data structure for a node that meets a set of criteria. It starts at the root of the graph and visits all nodes at the current depth level before moving on to the nodes at the next depth level."
   ]
  },
  {
   "cell_type": "markdown",
   "metadata": {},
   "source": [
    "![Alt text](image.png)"
   ]
  },
  {
   "cell_type": "markdown",
   "metadata": {},
   "source": [
    "https://www.youtube.com/watch?v=abHftC1GU6w"
   ]
  },
  {
   "cell_type": "code",
   "execution_count": 61,
   "metadata": {},
   "outputs": [],
   "source": [
    "from collections import deque"
   ]
  },
  {
   "cell_type": "code",
   "execution_count": 62,
   "metadata": {},
   "outputs": [],
   "source": [
    "graph = {\n",
    "     'A': ['M','P'],\n",
    "     'M': ['A','N'],\n",
    "     'N': ['M','B'],\n",
    "     'P': ['A','B'],\n",
    "     'B': ['P','N']\n",
    " }"
   ]
  },
  {
   "cell_type": "code",
   "execution_count": 63,
   "metadata": {},
   "outputs": [],
   "source": [
    "def bfs(start,goal,graph):\n",
    "    queue = deque([start])\n",
    "    visited = { start: None }\n",
    "    \n",
    "    while queue:\n",
    "        cur_node = queue.popleft()\n",
    "        if cur_node == goal:\n",
    "            break \n",
    "        \n",
    "        next_nodes = graph[cur_node]\n",
    "        for next_node in next_nodes:\n",
    "            if next_node not in visited:\n",
    "                queue.append(next_node)\n",
    "                visited[next_node] = cur_node\n",
    "    return visited \n",
    "\n",
    "\n",
    "start = \"A\"\n",
    "goal = \"B\"\n",
    "visited = bfs(start, goal,graph)"
   ]
  },
  {
   "cell_type": "code",
   "execution_count": 64,
   "metadata": {},
   "outputs": [
    {
     "name": "stdout",
     "output_type": "stream",
     "text": [
      "\n",
      "path from B to A: \n",
      " B ---> P ---> A "
     ]
    }
   ],
   "source": [
    "cur_node = goal\n",
    "print(f\"\\npath from {goal} to {start}: \\n {goal} \",end=\"\")\n",
    "while cur_node!= start:\n",
    "    cur_node = visited[cur_node]\n",
    "    print(f\"---> {cur_node} \",end=\"\")"
   ]
  },
  {
   "cell_type": "code",
   "execution_count": 65,
   "metadata": {},
   "outputs": [],
   "source": [
    "#https://www.geeksforgeeks.org/breadth-first-search-or-bfs-for-a-graph/"
   ]
  },
  {
   "cell_type": "markdown",
   "metadata": {},
   "source": [
    "![Alt text](image-1.png)"
   ]
  },
  {
   "cell_type": "code",
   "execution_count": 74,
   "metadata": {},
   "outputs": [],
   "source": [
    "from collections import deque\n",
    "\n",
    "\n",
    "#Step1: Initially queue and visited arrays are empty.\n",
    "\n",
    "graph = {\n",
    "     0: [1,2],\n",
    "     1: [0,2,3],\n",
    "     2: [0,1,4],\n",
    "     3: [1,4],\n",
    "     4: [2,3]\n",
    " }"
   ]
  },
  {
   "cell_type": "markdown",
   "metadata": {},
   "source": [
    "![Alt text](image-2.png)"
   ]
  },
  {
   "cell_type": "code",
   "execution_count": 81,
   "metadata": {},
   "outputs": [
    {
     "name": "stdout",
     "output_type": "stream",
     "text": [
      "deque([0])\n",
      "visited: {0: 0}\n"
     ]
    }
   ],
   "source": [
    "\n",
    "\n",
    "#Step2: Push node 0 into queue and mark it visited.\n",
    "\n",
    "\n",
    "start = 0\n",
    "queue = deque([start])\n",
    "visited = { start: 0 }\n",
    "\n",
    "def BFS_print():\n",
    "    print(f\"{queue}\")\n",
    "    print(f\"visited: {visited}\")\n",
    "\n",
    "BFS_print()"
   ]
  },
  {
   "cell_type": "markdown",
   "metadata": {},
   "source": [
    "![Alt text](image-3.png)"
   ]
  },
  {
   "cell_type": "markdown",
   "metadata": {},
   "source": [
    "Step 3: Remove node 0 from the front of queue and visit the unvisited neighbours and push them into queue."
   ]
  },
  {
   "cell_type": "code",
   "execution_count": 82,
   "metadata": {},
   "outputs": [
    {
     "data": {
      "text/plain": [
       "[1, 2]"
      ]
     },
     "execution_count": 82,
     "metadata": {},
     "output_type": "execute_result"
    }
   ],
   "source": [
    "cur_node = queue.popleft()\n",
    "next_nodes = graph[cur_node]\n",
    "next_nodes"
   ]
  },
  {
   "cell_type": "code",
   "execution_count": 83,
   "metadata": {},
   "outputs": [
    {
     "name": "stdout",
     "output_type": "stream",
     "text": [
      "deque([])\n",
      "visited: {0: 0}\n"
     ]
    }
   ],
   "source": [
    "BFS_print()"
   ]
  },
  {
   "cell_type": "code",
   "execution_count": 84,
   "metadata": {},
   "outputs": [],
   "source": [
    "for next_node in next_nodes:\n",
    "    if next_node not in visited:\n",
    "        queue.append(next_node)\n",
    "        visited[next_node] = cur_node"
   ]
  },
  {
   "cell_type": "code",
   "execution_count": 85,
   "metadata": {},
   "outputs": [
    {
     "name": "stdout",
     "output_type": "stream",
     "text": [
      "deque([1, 2])\n",
      "visited: {0: 0, 1: 0, 2: 0}\n"
     ]
    }
   ],
   "source": [
    "BFS_print()"
   ]
  },
  {
   "cell_type": "markdown",
   "metadata": {},
   "source": [
    "Step 3: Remove node 0 from the front of queue and visit the unvisited neighbours and push them into queue."
   ]
  },
  {
   "cell_type": "markdown",
   "metadata": {},
   "source": [
    "![Alt text](image-4.png)"
   ]
  },
  {
   "cell_type": "code",
   "execution_count": 86,
   "metadata": {},
   "outputs": [
    {
     "name": "stdout",
     "output_type": "stream",
     "text": [
      "Next nodes: [0, 2, 3]\n",
      "deque([2, 3])\n",
      "visited: {0: 0, 1: 0, 2: 0, 3: 1}\n"
     ]
    }
   ],
   "source": [
    "cur_node = queue.popleft()\n",
    "next_nodes = graph[cur_node]\n",
    "print(f\"Next nodes: {next_nodes}\")\n",
    "for next_node in next_nodes:\n",
    "    if next_node not in visited:\n",
    "        queue.append(next_node)\n",
    "        visited[next_node] = cur_node\n",
    "        \n",
    "BFS_print()"
   ]
  },
  {
   "cell_type": "markdown",
   "metadata": {},
   "source": [
    "Step 4: Remove node 1 from the front of queue and visit the unvisited neighbours and push them into queue."
   ]
  },
  {
   "cell_type": "markdown",
   "metadata": {},
   "source": [
    "![Alt text](image-5.png)"
   ]
  },
  {
   "cell_type": "code",
   "execution_count": 87,
   "metadata": {},
   "outputs": [
    {
     "name": "stdout",
     "output_type": "stream",
     "text": [
      "Next nodes: [0, 1, 4]\n",
      "deque([3, 4])\n",
      "visited: {0: 0, 1: 0, 2: 0, 3: 1, 4: 2}\n"
     ]
    }
   ],
   "source": [
    "cur_node = queue.popleft()\n",
    "next_nodes = graph[cur_node]\n",
    "print(f\"Next nodes: {next_nodes}\")\n",
    "for next_node in next_nodes:\n",
    "    if next_node not in visited:\n",
    "        queue.append(next_node)\n",
    "        visited[next_node] = cur_node\n",
    "        \n",
    "BFS_print()"
   ]
  },
  {
   "cell_type": "markdown",
   "metadata": {},
   "source": [
    "![Alt text](image-6.png)"
   ]
  },
  {
   "cell_type": "code",
   "execution_count": null,
   "metadata": {},
   "outputs": [],
   "source": []
  },
  {
   "cell_type": "code",
   "execution_count": 89,
   "metadata": {},
   "outputs": [
    {
     "name": "stdout",
     "output_type": "stream",
     "text": [
      "Next nodes: [1, 4]\n",
      "deque([4])\n",
      "visited: {0: 0, 1: 0, 2: 0, 3: 1, 4: 2}\n"
     ]
    }
   ],
   "source": [
    "cur_node = queue.popleft()\n",
    "next_nodes = graph[cur_node]\n",
    "print(f\"Next nodes: {next_nodes}\")\n",
    "for next_node in next_nodes:\n",
    "    if next_node not in visited:\n",
    "        queue.append(next_node)\n",
    "        visited[next_node] = cur_node\n",
    "        \n",
    "BFS_print()"
   ]
  },
  {
   "cell_type": "code",
   "execution_count": 90,
   "metadata": {},
   "outputs": [
    {
     "name": "stdout",
     "output_type": "stream",
     "text": [
      "Next nodes: [2, 3]\n",
      "deque([])\n",
      "visited: {0: 0, 1: 0, 2: 0, 3: 1, 4: 2}\n"
     ]
    }
   ],
   "source": [
    "cur_node = queue.popleft()\n",
    "next_nodes = graph[cur_node]\n",
    "print(f\"Next nodes: {next_nodes}\")\n",
    "for next_node in next_nodes:\n",
    "    if next_node not in visited:\n",
    "        queue.append(next_node)\n",
    "        visited[next_node] = cur_node\n",
    "        \n",
    "BFS_print()"
   ]
  },
  {
   "cell_type": "code",
   "execution_count": null,
   "metadata": {},
   "outputs": [],
   "source": []
  },
  {
   "cell_type": "code",
   "execution_count": null,
   "metadata": {},
   "outputs": [],
   "source": []
  }
 ],
 "metadata": {
  "kernelspec": {
   "display_name": "Robotica_2023B",
   "language": "python",
   "name": "python3"
  },
  "language_info": {
   "codemirror_mode": {
    "name": "ipython",
    "version": 3
   },
   "file_extension": ".py",
   "mimetype": "text/x-python",
   "name": "python",
   "nbconvert_exporter": "python",
   "pygments_lexer": "ipython3",
   "version": "3.11.4"
  },
  "orig_nbformat": 4
 },
 "nbformat": 4,
 "nbformat_minor": 2
}
