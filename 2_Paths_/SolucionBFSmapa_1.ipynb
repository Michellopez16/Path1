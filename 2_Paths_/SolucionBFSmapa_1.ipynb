{
 "cells": [
  {
   "cell_type": "code",
   "execution_count": 189,
   "metadata": {},
   "outputs": [],
   "source": [
    "import numpy as np\n",
    "import matplotlib.pyplot as plt"
   ]
  },
  {
   "cell_type": "code",
   "execution_count": 190,
   "metadata": {},
   "outputs": [],
   "source": [
    "mapa = np.array([   [0,1,1,1,1],\n",
    "                    [1,1,0,1,1],\n",
    "                    [1,0,0,0,1],\n",
    "                    [1,0,1,1,1],\n",
    "                    [1,0,0,1,1]\n",
    "                ])\n",
    "\n",
    "inicio= (1,1)\n",
    "fin = (4,4)\n",
    "xlim,ylim = mapa.shape"
   ]
  },
  {
   "cell_type": "code",
   "execution_count": 191,
   "metadata": {},
   "outputs": [
    {
     "data": {
      "text/plain": [
       "<matplotlib.image.AxesImage at 0x11806f8d0>"
      ]
     },
     "execution_count": 191,
     "metadata": {},
     "output_type": "execute_result"
    },
    {
     "data": {
      "image/png": "[encoded data removed]",
      "text/plain": [
       "<Figure size 640x480 with 1 Axes>"
      ]
     },
     "metadata": {},
     "output_type": "display_data"
    }
   ],
   "source": [
    "plt.imshow(mapa,cmap='gray')"
   ]
  },
  {
   "cell_type": "code",
   "execution_count": null,
   "metadata": {},
   "outputs": [],
   "source": []
  },
  {
   "cell_type": "code",
   "execution_count": 192,
   "metadata": {},
   "outputs": [],
   "source": [
    "start= (1,1)\n",
    "goal = (4,4)\n",
    "#graph = mapa"
   ]
  },
  {
   "cell_type": "code",
   "execution_count": 193,
   "metadata": {},
   "outputs": [],
   "source": [
    "from collections import deque"
   ]
  },
  {
   "cell_type": "code",
   "execution_count": 194,
   "metadata": {},
   "outputs": [
    {
     "name": "stdout",
     "output_type": "stream",
     "text": [
      "Visited:\n",
      "[[0. 0. 0. 0. 0.]\n",
      " [0. 1. 0. 0. 0.]\n",
      " [0. 0. 0. 0. 0.]\n",
      " [0. 0. 0. 0. 0.]\n",
      " [0. 0. 0. 0. 0.]]\n",
      "Nodos por visitar: deque([(1, 1)])\n",
      "Path Recorrido: deque([(1, 1)])\n",
      "Mapa:\n",
      "[[0 1 1 1 1]\n",
      " [1 1 0 1 1]\n",
      " [1 0 0 0 1]\n",
      " [1 0 1 1 1]\n",
      " [1 0 0 1 1]]\n"
     ]
    }
   ],
   "source": [
    "visited = np.zeros (mapa.shape)\n",
    "visited[start] +=1 \n",
    "queue = deque([start])\n",
    "path_visited = deque([start])\n",
    "\n",
    "def stepprint(): \n",
    "    print(f\"Visited:\\n{visited}\")\n",
    "    print(f\"Nodos por visitar: {queue}\")\n",
    "    print(f\"Path Recorrido: {path_visited}\")\n",
    "    print(f\"Mapa:\\n{mapa}\")\n",
    "    \n",
    "stepprint()"
   ]
  },
  {
   "cell_type": "code",
   "execution_count": 195,
   "metadata": {},
   "outputs": [
    {
     "data": {
      "text/plain": [
       "(1, 1)"
      ]
     },
     "execution_count": 195,
     "metadata": {},
     "output_type": "execute_result"
    }
   ],
   "source": [
    "cur_node = queue.popleft()\n",
    "cur_node"
   ]
  },
  {
   "cell_type": "code",
   "execution_count": null,
   "metadata": {},
   "outputs": [],
   "source": []
  },
  {
   "cell_type": "code",
   "execution_count": 196,
   "metadata": {},
   "outputs": [],
   "source": [
    "def validar (x,y):  \n",
    "    if (x < xlim and y < ylim and x >=0 and y >= 0):\n",
    "        if mapa[x,y] == 1 and not (x,y) in path_visited:            \n",
    "            return True\n",
    "    return False\n",
    "\n",
    "\n",
    "def moverto(cur_node):\n",
    "    x,y = cur_node\n",
    "    \n",
    "    if validar(x,y+1):\n",
    "        return x,y+1\n",
    "    if validar(x+1,y):\n",
    "        return x+1,y\n",
    "    if validar(x,y-1):\n",
    "        return x,y-1\n",
    "    if validar(x-1,y):\n",
    "        return x-1,y\n",
    "    \n",
    "    return -1,-1\n",
    "    "
   ]
  },
  {
   "cell_type": "code",
   "execution_count": 197,
   "metadata": {},
   "outputs": [
    {
     "name": "stdout",
     "output_type": "stream",
     "text": [
      "Nuevo movimiento:  1 0\n",
      "Visited:\n",
      "[[0. 0. 0. 0. 0.]\n",
      " [1. 1. 0. 0. 0.]\n",
      " [0. 0. 0. 0. 0.]\n",
      " [0. 0. 0. 0. 0.]\n",
      " [0. 0. 0. 0. 0.]]\n",
      "Nodos por visitar: deque([(1, 0)])\n",
      "Path Recorrido: deque([(1, 1), (1, 0)])\n",
      "Mapa:\n",
      "[[0 1 1 1 1]\n",
      " [1 1 0 1 1]\n",
      " [1 0 0 0 1]\n",
      " [1 0 1 1 1]\n",
      " [1 0 0 1 1]]\n"
     ]
    }
   ],
   "source": [
    "x,y = moverto(cur_node)\n",
    "print(\"Nuevo movimiento: \", x,y )\n",
    "\n",
    "path_visited.append((x,y))\n",
    "visited[x,y] += 1\n",
    "queue.append((x,y))\n",
    "stepprint()\n"
   ]
  },
  {
   "cell_type": "code",
   "execution_count": 198,
   "metadata": {},
   "outputs": [
    {
     "data": {
      "text/plain": [
       "(1, 0)"
      ]
     },
     "execution_count": 198,
     "metadata": {},
     "output_type": "execute_result"
    }
   ],
   "source": [
    "cur_node = queue.popleft()\n",
    "cur_node"
   ]
  },
  {
   "cell_type": "code",
   "execution_count": 199,
   "metadata": {},
   "outputs": [
    {
     "name": "stdout",
     "output_type": "stream",
     "text": [
      "Nuevo movimiento:  2 0\n",
      "Visited:\n",
      "[[0. 0. 0. 0. 0.]\n",
      " [1. 1. 0. 0. 0.]\n",
      " [1. 0. 0. 0. 0.]\n",
      " [0. 0. 0. 0. 0.]\n",
      " [0. 0. 0. 0. 0.]]\n",
      "Nodos por visitar: deque([(2, 0)])\n",
      "Path Recorrido: deque([(1, 1), (1, 0), (2, 0)])\n",
      "Mapa:\n",
      "[[0 1 1 1 1]\n",
      " [1 1 0 1 1]\n",
      " [1 0 0 0 1]\n",
      " [1 0 1 1 1]\n",
      " [1 0 0 1 1]]\n"
     ]
    }
   ],
   "source": [
    "x,y = moverto(cur_node)\n",
    "print(\"Nuevo movimiento: \", x,y )\n",
    "\n",
    "path_visited.append((x,y))\n",
    "visited[x,y] += 1\n",
    "queue.append((x,y))\n",
    "stepprint()"
   ]
  },
  {
   "cell_type": "code",
   "execution_count": 200,
   "metadata": {},
   "outputs": [
    {
     "name": "stdout",
     "output_type": "stream",
     "text": [
      "cur_node (2, 0)\n",
      "Nuevo movimiento:  3 0\n",
      "Visited:\n",
      "[[0. 0. 0. 0. 0.]\n",
      " [1. 1. 0. 0. 0.]\n",
      " [1. 0. 0. 0. 0.]\n",
      " [1. 0. 0. 0. 0.]\n",
      " [0. 0. 0. 0. 0.]]\n",
      "Nodos por visitar: deque([(3, 0)])\n",
      "Path Recorrido: deque([(1, 1), (1, 0), (2, 0), (3, 0)])\n",
      "Mapa:\n",
      "[[0 1 1 1 1]\n",
      " [1 1 0 1 1]\n",
      " [1 0 0 0 1]\n",
      " [1 0 1 1 1]\n",
      " [1 0 0 1 1]]\n"
     ]
    }
   ],
   "source": [
    "cur_node = queue.popleft()\n",
    "print(\"cur_node\",cur_node)\n",
    "x,y = moverto(cur_node)\n",
    "print(\"Nuevo movimiento: \", x,y )\n",
    "\n",
    "path_visited.append((x,y))\n",
    "visited[x,y] += 1\n",
    "queue.append((x,y))\n",
    "stepprint()"
   ]
  },
  {
   "cell_type": "code",
   "execution_count": 201,
   "metadata": {},
   "outputs": [
    {
     "name": "stdout",
     "output_type": "stream",
     "text": [
      "cur_node (3, 0)\n",
      "Nuevo movimiento:  4 0\n",
      "Visited:\n",
      "[[0. 0. 0. 0. 0.]\n",
      " [1. 1. 0. 0. 0.]\n",
      " [1. 0. 0. 0. 0.]\n",
      " [1. 0. 0. 0. 0.]\n",
      " [1. 0. 0. 0. 0.]]\n",
      "Nodos por visitar: deque([(4, 0)])\n",
      "Path Recorrido: deque([(1, 1), (1, 0), (2, 0), (3, 0), (4, 0)])\n",
      "Mapa:\n",
      "[[0 1 1 1 1]\n",
      " [1 1 0 1 1]\n",
      " [1 0 0 0 1]\n",
      " [1 0 1 1 1]\n",
      " [1 0 0 1 1]]\n"
     ]
    }
   ],
   "source": [
    "cur_node = queue.popleft()\n",
    "print(\"cur_node\",cur_node)\n",
    "x,y = moverto(cur_node)\n",
    "print(\"Nuevo movimiento: \", x,y )\n",
    "\n",
    "path_visited.append((x,y))\n",
    "visited[x,y] += 1\n",
    "queue.append((x,y))\n",
    "stepprint()"
   ]
  },
  {
   "cell_type": "code",
   "execution_count": 202,
   "metadata": {},
   "outputs": [
    {
     "name": "stdout",
     "output_type": "stream",
     "text": [
      "cur_node (4, 0)\n",
      "Nuevo movimiento:  -1 -1\n"
     ]
    }
   ],
   "source": [
    "cur_node = queue.popleft()\n",
    "print(\"cur_node\",cur_node)\n",
    "x,y = moverto(cur_node)\n",
    "print(\"Nuevo movimiento: \", x,y )"
   ]
  },
  {
   "cell_type": "code",
   "execution_count": 203,
   "metadata": {},
   "outputs": [
    {
     "name": "stdout",
     "output_type": "stream",
     "text": [
      "Visited:\n",
      "[[0. 0. 0. 0. 0.]\n",
      " [1. 1. 0. 0. 0.]\n",
      " [1. 0. 0. 0. 0.]\n",
      " [1. 0. 0. 0. 0.]\n",
      " [1. 0. 0. 0. 0.]]\n",
      "Nodos por visitar: deque([])\n",
      "Path Recorrido: deque([(1, 1), (1, 0), (2, 0), (3, 0), (4, 0)])\n",
      "Mapa:\n",
      "[[0 1 1 1 1]\n",
      " [1 1 0 1 1]\n",
      " [1 0 0 0 1]\n",
      " [1 0 1 1 1]\n",
      " [1 0 0 1 1]]\n"
     ]
    }
   ],
   "source": [
    "stepprint()"
   ]
  },
  {
   "cell_type": "code",
   "execution_count": null,
   "metadata": {},
   "outputs": [],
   "source": []
  },
  {
   "cell_type": "code",
   "execution_count": 204,
   "metadata": {},
   "outputs": [
    {
     "name": "stdout",
     "output_type": "stream",
     "text": [
      "regresar deque([(1, 1), (1, 0), (2, 0), (3, 0), (4, 0)])\n",
      "4 0\n",
      "3 0\n",
      "2 0\n",
      "1 0\n",
      "1 1\n"
     ]
    }
   ],
   "source": [
    "if x == -1 and y == -1: # regresar\n",
    "    regresar = path_visited.copy()\n",
    "    print(\"regresar\",regresar)\n",
    "    while regresar:\n",
    "        x,y = regresar.pop()\n",
    "        visited[x,y] += 1\n",
    "         \n",
    "        #cur_node=(x,y)   \n",
    "        print(x,y)\n",
    "    queue.append((x,y))\n"
   ]
  },
  {
   "cell_type": "code",
   "execution_count": null,
   "metadata": {},
   "outputs": [],
   "source": []
  },
  {
   "cell_type": "code",
   "execution_count": 205,
   "metadata": {},
   "outputs": [
    {
     "name": "stdout",
     "output_type": "stream",
     "text": [
      "Visited:\n",
      "[[0. 0. 0. 0. 0.]\n",
      " [2. 2. 0. 0. 0.]\n",
      " [2. 0. 0. 0. 0.]\n",
      " [2. 0. 0. 0. 0.]\n",
      " [2. 0. 0. 0. 0.]]\n",
      "Nodos por visitar: deque([(1, 1)])\n",
      "Path Recorrido: deque([(1, 1), (1, 0), (2, 0), (3, 0), (4, 0)])\n",
      "Mapa:\n",
      "[[0 1 1 1 1]\n",
      " [1 1 0 1 1]\n",
      " [1 0 0 0 1]\n",
      " [1 0 1 1 1]\n",
      " [1 0 0 1 1]]\n"
     ]
    }
   ],
   "source": [
    "stepprint()"
   ]
  },
  {
   "cell_type": "code",
   "execution_count": null,
   "metadata": {},
   "outputs": [],
   "source": []
  },
  {
   "cell_type": "code",
   "execution_count": 206,
   "metadata": {},
   "outputs": [
    {
     "name": "stdout",
     "output_type": "stream",
     "text": [
      "cur_node (1, 1)\n",
      "Nuevo movimiento:  0 1\n",
      "Visited:\n",
      "[[0. 1. 0. 0. 0.]\n",
      " [2. 2. 0. 0. 0.]\n",
      " [2. 0. 0. 0. 0.]\n",
      " [2. 0. 0. 0. 0.]\n",
      " [2. 0. 0. 0. 0.]]\n",
      "Nodos por visitar: deque([(0, 1)])\n",
      "Path Recorrido: deque([(1, 1), (1, 0), (2, 0), (3, 0), (4, 0), (0, 1)])\n",
      "Mapa:\n",
      "[[0 1 1 1 1]\n",
      " [1 1 0 1 1]\n",
      " [1 0 0 0 1]\n",
      " [1 0 1 1 1]\n",
      " [1 0 0 1 1]]\n"
     ]
    }
   ],
   "source": [
    "cur_node = queue.popleft()\n",
    "print(\"cur_node\",cur_node)\n",
    "x,y = moverto(cur_node)\n",
    "print(\"Nuevo movimiento: \", x,y )\n",
    "\n",
    "path_visited.append((x,y))\n",
    "visited[x,y] += 1\n",
    "queue.append((x,y))\n",
    "stepprint()"
   ]
  },
  {
   "cell_type": "code",
   "execution_count": 207,
   "metadata": {},
   "outputs": [
    {
     "name": "stdout",
     "output_type": "stream",
     "text": [
      "cur_node (0, 1)\n",
      "Nuevo movimiento:  0 2\n",
      "Visited:\n",
      "[[0. 1. 1. 0. 0.]\n",
      " [2. 2. 0. 0. 0.]\n",
      " [2. 0. 0. 0. 0.]\n",
      " [2. 0. 0. 0. 0.]\n",
      " [2. 0. 0. 0. 0.]]\n",
      "Nodos por visitar: deque([(0, 2)])\n",
      "Path Recorrido: deque([(1, 1), (1, 0), (2, 0), (3, 0), (4, 0), (0, 1), (0, 2)])\n",
      "Mapa:\n",
      "[[0 1 1 1 1]\n",
      " [1 1 0 1 1]\n",
      " [1 0 0 0 1]\n",
      " [1 0 1 1 1]\n",
      " [1 0 0 1 1]]\n"
     ]
    }
   ],
   "source": [
    "cur_node = queue.popleft()\n",
    "print(\"cur_node\",cur_node)\n",
    "x,y = moverto(cur_node)\n",
    "print(\"Nuevo movimiento: \", x,y )\n",
    "\n",
    "path_visited.append((x,y))\n",
    "visited[x,y] += 1\n",
    "queue.append((x,y))\n",
    "stepprint()"
   ]
  },
  {
   "cell_type": "code",
   "execution_count": 208,
   "metadata": {},
   "outputs": [
    {
     "name": "stdout",
     "output_type": "stream",
     "text": [
      "cur_node (0, 2)\n",
      "Nuevo movimiento:  0 3\n",
      "Visited:\n",
      "[[0. 1. 1. 1. 0.]\n",
      " [2. 2. 0. 0. 0.]\n",
      " [2. 0. 0. 0. 0.]\n",
      " [2. 0. 0. 0. 0.]\n",
      " [2. 0. 0. 0. 0.]]\n",
      "Nodos por visitar: deque([(0, 3)])\n",
      "Path Recorrido: deque([(1, 1), (1, 0), (2, 0), (3, 0), (4, 0), (0, 1), (0, 2), (0, 3)])\n",
      "Mapa:\n",
      "[[0 1 1 1 1]\n",
      " [1 1 0 1 1]\n",
      " [1 0 0 0 1]\n",
      " [1 0 1 1 1]\n",
      " [1 0 0 1 1]]\n"
     ]
    }
   ],
   "source": [
    "cur_node = queue.popleft()\n",
    "print(\"cur_node\",cur_node)\n",
    "x,y = moverto(cur_node)\n",
    "print(\"Nuevo movimiento: \", x,y )\n",
    "\n",
    "path_visited.append((x,y))\n",
    "visited[x,y] += 1\n",
    "queue.append((x,y))\n",
    "stepprint()"
   ]
  },
  {
   "cell_type": "code",
   "execution_count": 209,
   "metadata": {},
   "outputs": [
    {
     "name": "stdout",
     "output_type": "stream",
     "text": [
      "cur_node (0, 3)\n",
      "Nuevo movimiento:  0 4\n",
      "Visited:\n",
      "[[0. 1. 1. 1. 1.]\n",
      " [2. 2. 0. 0. 0.]\n",
      " [2. 0. 0. 0. 0.]\n",
      " [2. 0. 0. 0. 0.]\n",
      " [2. 0. 0. 0. 0.]]\n",
      "Nodos por visitar: deque([(0, 4)])\n",
      "Path Recorrido: deque([(1, 1), (1, 0), (2, 0), (3, 0), (4, 0), (0, 1), (0, 2), (0, 3), (0, 4)])\n",
      "Mapa:\n",
      "[[0 1 1 1 1]\n",
      " [1 1 0 1 1]\n",
      " [1 0 0 0 1]\n",
      " [1 0 1 1 1]\n",
      " [1 0 0 1 1]]\n"
     ]
    }
   ],
   "source": [
    "cur_node = queue.popleft()\n",
    "print(\"cur_node\",cur_node)\n",
    "x,y = moverto(cur_node)\n",
    "print(\"Nuevo movimiento: \", x,y )\n",
    "\n",
    "path_visited.append((x,y))\n",
    "visited[x,y] += 1\n",
    "queue.append((x,y))\n",
    "stepprint()"
   ]
  },
  {
   "cell_type": "code",
   "execution_count": 210,
   "metadata": {},
   "outputs": [
    {
     "name": "stdout",
     "output_type": "stream",
     "text": [
      "cur_node (0, 4)\n",
      "Nuevo movimiento:  1 4\n",
      "Visited:\n",
      "[[0. 1. 1. 1. 1.]\n",
      " [2. 2. 0. 0. 1.]\n",
      " [2. 0. 0. 0. 0.]\n",
      " [2. 0. 0. 0. 0.]\n",
      " [2. 0. 0. 0. 0.]]\n",
      "Nodos por visitar: deque([(1, 4)])\n",
      "Path Recorrido: deque([(1, 1), (1, 0), (2, 0), (3, 0), (4, 0), (0, 1), (0, 2), (0, 3), (0, 4), (1, 4)])\n",
      "Mapa:\n",
      "[[0 1 1 1 1]\n",
      " [1 1 0 1 1]\n",
      " [1 0 0 0 1]\n",
      " [1 0 1 1 1]\n",
      " [1 0 0 1 1]]\n"
     ]
    }
   ],
   "source": [
    "cur_node = queue.popleft()\n",
    "print(\"cur_node\",cur_node)\n",
    "x,y = moverto(cur_node)\n",
    "print(\"Nuevo movimiento: \", x,y )\n",
    "\n",
    "path_visited.append((x,y))\n",
    "visited[x,y] += 1\n",
    "queue.append((x,y))\n",
    "stepprint()"
   ]
  },
  {
   "cell_type": "code",
   "execution_count": 211,
   "metadata": {},
   "outputs": [
    {
     "name": "stdout",
     "output_type": "stream",
     "text": [
      "cur_node (1, 4)\n",
      "Nuevo movimiento:  2 4\n",
      "Visited:\n",
      "[[0. 1. 1. 1. 1.]\n",
      " [2. 2. 0. 0. 1.]\n",
      " [2. 0. 0. 0. 1.]\n",
      " [2. 0. 0. 0. 0.]\n",
      " [2. 0. 0. 0. 0.]]\n",
      "Nodos por visitar: deque([(2, 4)])\n",
      "Path Recorrido: deque([(1, 1), (1, 0), (2, 0), (3, 0), (4, 0), (0, 1), (0, 2), (0, 3), (0, 4), (1, 4), (2, 4)])\n",
      "Mapa:\n",
      "[[0 1 1 1 1]\n",
      " [1 1 0 1 1]\n",
      " [1 0 0 0 1]\n",
      " [1 0 1 1 1]\n",
      " [1 0 0 1 1]]\n"
     ]
    }
   ],
   "source": [
    "cur_node = queue.popleft()\n",
    "print(\"cur_node\",cur_node)\n",
    "x,y = moverto(cur_node)\n",
    "print(\"Nuevo movimiento: \", x,y )\n",
    "\n",
    "path_visited.append((x,y))\n",
    "visited[x,y] += 1\n",
    "queue.append((x,y))\n",
    "stepprint()"
   ]
  },
  {
   "cell_type": "code",
   "execution_count": 212,
   "metadata": {},
   "outputs": [
    {
     "name": "stdout",
     "output_type": "stream",
     "text": [
      "cur_node (2, 4)\n",
      "Nuevo movimiento:  3 4\n",
      "Visited:\n",
      "[[0. 1. 1. 1. 1.]\n",
      " [2. 2. 0. 0. 1.]\n",
      " [2. 0. 0. 0. 1.]\n",
      " [2. 0. 0. 0. 1.]\n",
      " [2. 0. 0. 0. 0.]]\n",
      "Nodos por visitar: deque([(3, 4)])\n",
      "Path Recorrido: deque([(1, 1), (1, 0), (2, 0), (3, 0), (4, 0), (0, 1), (0, 2), (0, 3), (0, 4), (1, 4), (2, 4), (3, 4)])\n",
      "Mapa:\n",
      "[[0 1 1 1 1]\n",
      " [1 1 0 1 1]\n",
      " [1 0 0 0 1]\n",
      " [1 0 1 1 1]\n",
      " [1 0 0 1 1]]\n"
     ]
    }
   ],
   "source": [
    "cur_node = queue.popleft()\n",
    "print(\"cur_node\",cur_node)\n",
    "x,y = moverto(cur_node)\n",
    "print(\"Nuevo movimiento: \", x,y )\n",
    "\n",
    "path_visited.append((x,y))\n",
    "visited[x,y] += 1\n",
    "queue.append((x,y))\n",
    "stepprint()"
   ]
  },
  {
   "cell_type": "code",
   "execution_count": 213,
   "metadata": {},
   "outputs": [
    {
     "name": "stdout",
     "output_type": "stream",
     "text": [
      "cur_node (3, 4)\n",
      "Nuevo movimiento:  4 4\n",
      "Visited:\n",
      "[[0. 1. 1. 1. 1.]\n",
      " [2. 2. 0. 0. 1.]\n",
      " [2. 0. 0. 0. 1.]\n",
      " [2. 0. 0. 0. 1.]\n",
      " [2. 0. 0. 0. 1.]]\n",
      "Nodos por visitar: deque([(4, 4)])\n",
      "Path Recorrido: deque([(1, 1), (1, 0), (2, 0), (3, 0), (4, 0), (0, 1), (0, 2), (0, 3), (0, 4), (1, 4), (2, 4), (3, 4), (4, 4)])\n",
      "Mapa:\n",
      "[[0 1 1 1 1]\n",
      " [1 1 0 1 1]\n",
      " [1 0 0 0 1]\n",
      " [1 0 1 1 1]\n",
      " [1 0 0 1 1]]\n"
     ]
    }
   ],
   "source": [
    "cur_node = queue.popleft()\n",
    "print(\"cur_node\",cur_node)\n",
    "x,y = moverto(cur_node)\n",
    "print(\"Nuevo movimiento: \", x,y )\n",
    "\n",
    "path_visited.append((x,y))\n",
    "visited[x,y] += 1\n",
    "queue.append((x,y))\n",
    "stepprint()"
   ]
  },
  {
   "cell_type": "code",
   "execution_count": 214,
   "metadata": {},
   "outputs": [
    {
     "name": "stdout",
     "output_type": "stream",
     "text": [
      "llegamos\n"
     ]
    }
   ],
   "source": [
    "print(\"llegamos\")"
   ]
  },
  {
   "cell_type": "code",
   "execution_count": null,
   "metadata": {},
   "outputs": [],
   "source": []
  },
  {
   "cell_type": "code",
   "execution_count": null,
   "metadata": {},
   "outputs": [],
   "source": []
  }
 ],
 "metadata": {
  "kernelspec": {
   "display_name": "Robotica_2023B",
   "language": "python",
   "name": "python3"
  },
  "language_info": {
   "codemirror_mode": {
    "name": "ipython",
    "version": 3
   },
   "file_extension": ".py",
   "mimetype": "text/x-python",
   "name": "python",
   "nbconvert_exporter": "python",
   "pygments_lexer": "ipython3",
   "version": "3.11.4"
  },
  "orig_nbformat": 4
 },
 "nbformat": 4,
 "nbformat_minor": 2
}
