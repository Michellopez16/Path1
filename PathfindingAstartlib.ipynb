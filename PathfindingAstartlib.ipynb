{
 "cells": [
  {
   "cell_type": "code",
   "execution_count": 4,
   "metadata": {},
   "outputs": [],
   "source": [
    "#!pip install pathfinding"
   ]
  },
  {
   "cell_type": "code",
   "execution_count": 72,
   "metadata": {},
   "outputs": [],
   "source": [
    "#import pathfinding\n",
    "from pathfinding.core.grid import Grid\n",
    "from pathfinding.finder.a_star import AStarFinder"
   ]
  },
  {
   "cell_type": "code",
   "execution_count": 73,
   "metadata": {},
   "outputs": [],
   "source": [
    "matrix = [\n",
    "    [1,1,1,1,1,1],\n",
    "    [1,0,1,1,1,1],\n",
    "    [1,1,1,1,1,1]\n",
    "]"
   ]
  },
  {
   "cell_type": "code",
   "execution_count": 74,
   "metadata": {},
   "outputs": [],
   "source": [
    "# 1.create a grid\n",
    "grid = Grid(matrix= matrix)"
   ]
  },
  {
   "cell_type": "code",
   "execution_count": 75,
   "metadata": {},
   "outputs": [],
   "source": [
    "#2.Create a start and end cell\n",
    "start = grid.node(0,0)\n",
    "end = grid.node(5,2)"
   ]
  },
  {
   "cell_type": "code",
   "execution_count": 76,
   "metadata": {},
   "outputs": [],
   "source": [
    "#3.Create a finder with a movement style\n",
    "finder = AStarFinder()"
   ]
  },
  {
   "cell_type": "code",
   "execution_count": 77,
   "metadata": {},
   "outputs": [],
   "source": [
    "#4.use the finder to find the path\n",
    "path,runs = finder.find_path(start,end,grid) #only up, down, right, left"
   ]
  },
  {
   "cell_type": "code",
   "execution_count": 78,
   "metadata": {},
   "outputs": [
    {
     "name": "stdout",
     "output_type": "stream",
     "text": [
      " (0, 0)\n",
      " (1, 0)\n",
      " (2, 0)\n",
      " (3, 0)\n",
      " (4, 0)\n",
      " (5, 0)\n",
      " (5, 1)\n",
      " (5, 2)\n"
     ]
    }
   ],
   "source": [
    "# pritn the result\n",
    "for x,y in path:\n",
    "    print(f' ({x}, {y})')\n"
   ]
  },
  {
   "cell_type": "code",
   "execution_count": 86,
   "metadata": {},
   "outputs": [
    {
     "data": {
      "text/plain": [
       "5"
      ]
     },
     "execution_count": 86,
     "metadata": {},
     "output_type": "execute_result"
    }
   ],
   "source": [
    "len(path) -1"
   ]
  },
  {
   "cell_type": "code",
   "execution_count": 79,
   "metadata": {},
   "outputs": [
    {
     "name": "stdout",
     "output_type": "stream",
     "text": [
      "+------+\n",
      "|sxxxxx|\n",
      "| #   x|\n",
      "|     e|\n",
      "+------+\n"
     ]
    }
   ],
   "source": [
    "print(grid.grid_str(path=path, start=start, end=end))"
   ]
  },
  {
   "cell_type": "code",
   "execution_count": 81,
   "metadata": {},
   "outputs": [],
   "source": [
    "from pathfinding.core.diagonal_movement import DiagonalMovement"
   ]
  },
  {
   "cell_type": "code",
   "execution_count": 82,
   "metadata": {},
   "outputs": [],
   "source": [
    "finder = AStarFinder(diagonal_movement=DiagonalMovement.always)\n",
    "\n",
    "grid = Grid(matrix= matrix)\n",
    "start = grid.node(0,0)\n",
    "end = grid.node(5,2)"
   ]
  },
  {
   "cell_type": "code",
   "execution_count": 83,
   "metadata": {},
   "outputs": [
    {
     "name": "stdout",
     "output_type": "stream",
     "text": [
      " (0, 0)\n",
      " (1, 0)\n",
      " (2, 0)\n",
      " (3, 0)\n",
      " (4, 1)\n",
      " (5, 2)\n"
     ]
    }
   ],
   "source": [
    "path,runs = finder.find_path(start,end,grid) \n",
    "for x,y in path:\n",
    "    print(f' ({x}, {y})')"
   ]
  },
  {
   "cell_type": "code",
   "execution_count": 85,
   "metadata": {},
   "outputs": [
    {
     "data": {
      "text/plain": [
       "5"
      ]
     },
     "execution_count": 85,
     "metadata": {},
     "output_type": "execute_result"
    }
   ],
   "source": [
    "len(path)-1"
   ]
  },
  {
   "cell_type": "code",
   "execution_count": 84,
   "metadata": {},
   "outputs": [
    {
     "name": "stdout",
     "output_type": "stream",
     "text": [
      "+------+\n",
      "|sxxx  |\n",
      "| #  x |\n",
      "|     e|\n",
      "+------+\n"
     ]
    }
   ],
   "source": [
    "print(grid.grid_str(path=path, start=start, end=end))"
   ]
  },
  {
   "cell_type": "code",
   "execution_count": null,
   "metadata": {},
   "outputs": [],
   "source": []
  },
  {
   "cell_type": "code",
   "execution_count": null,
   "metadata": {},
   "outputs": [],
   "source": []
  }
 ],
 "metadata": {
  "kernelspec": {
   "display_name": "Robotica_2023",
   "language": "python",
   "name": "robotica_2023"
  },
  "language_info": {
   "codemirror_mode": {
    "name": "ipython",
    "version": 3
   },
   "file_extension": ".py",
   "mimetype": "text/x-python",
   "name": "python",
   "nbconvert_exporter": "python",
   "pygments_lexer": "ipython3",
   "version": "3.11.4"
  },
  "orig_nbformat": 4
 },
 "nbformat": 4,
 "nbformat_minor": 2
}
